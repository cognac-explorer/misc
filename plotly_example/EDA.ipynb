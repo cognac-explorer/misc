{
 "cells": [
  {
   "cell_type": "code",
   "execution_count": 1,
   "metadata": {},
   "outputs": [],
   "source": [
    "import pandas as pd\n",
    "import plotly.express as px\n",
    "import os"
   ]
  },
  {
   "cell_type": "code",
   "execution_count": 2,
   "metadata": {},
   "outputs": [
    {
     "data": {
      "text/plain": [
       "(52152, 5)"
      ]
     },
     "execution_count": 2,
     "metadata": {},
     "output_type": "execute_result"
    }
   ],
   "source": [
    "data_df = pd.read_csv('claims_sample_data.csv')\n",
    "data_df.shape"
   ]
  },
  {
   "cell_type": "markdown",
   "metadata": {},
   "source": [
    "##### Quick look on data"
   ]
  },
  {
   "cell_type": "code",
   "execution_count": 3,
   "metadata": {},
   "outputs": [
    {
     "data": {
      "text/plain": [
       "MONTH                int64\n",
       "SERVICE_CATEGORY    object\n",
       "CLAIM_SPECIALTY     object\n",
       "PAYER               object\n",
       "PAID_AMOUNT          int64\n",
       "dtype: object"
      ]
     },
     "execution_count": 3,
     "metadata": {},
     "output_type": "execute_result"
    }
   ],
   "source": [
    "data_df.dtypes"
   ]
  },
  {
   "cell_type": "code",
   "execution_count": 4,
   "metadata": {},
   "outputs": [
    {
     "name": "stdout",
     "output_type": "stream",
     "text": [
      "MONTH 0\n",
      "SERVICE_CATEGORY 0\n",
      "CLAIM_SPECIALTY 251\n",
      "PAYER 0\n",
      "PAID_AMOUNT 0\n"
     ]
    }
   ],
   "source": [
    "for col in data_df.columns:\n",
    "    print(col, data_df[pd.isna(data_df[col])].shape[0])"
   ]
  },
  {
   "cell_type": "code",
   "execution_count": 5,
   "metadata": {},
   "outputs": [],
   "source": [
    "# try to change int to datetime\n",
    "# this produce an error for '201900', coerce for a while\n",
    "data_df['paid_month'] = pd.to_datetime(data_df['MONTH'], format=\"%Y%m\", errors='coerce')"
   ]
  },
  {
   "cell_type": "code",
   "execution_count": 6,
   "metadata": {},
   "outputs": [
    {
     "data": {
      "text/plain": [
       "array(['AncillaryFFS', 'ASCServices', 'ERServices', 'InpatientServices',\n",
       "       'OutpatientServices', 'PCPEncounter', 'PCPFFS', 'SNFServices',\n",
       "       'SpecialistFFS', 'SpecialistsFFS'], dtype=object)"
      ]
     },
     "execution_count": 6,
     "metadata": {},
     "output_type": "execute_result"
    }
   ],
   "source": [
    "data_df.SERVICE_CATEGORY.unique()"
   ]
  },
  {
   "cell_type": "code",
   "execution_count": 7,
   "metadata": {},
   "outputs": [
    {
     "data": {
      "text/plain": [
       "array(['Payer F', 'Payer H', 'Payer O', 'Payer W', 'Payer UN', 'Payer CA',\n",
       "       'Payer CO', 'Payer S', 'Payer B', 'Payer UL'], dtype=object)"
      ]
     },
     "execution_count": 7,
     "metadata": {},
     "output_type": "execute_result"
    }
   ],
   "source": [
    "data_df.PAYER.unique()"
   ]
  },
  {
   "cell_type": "code",
   "execution_count": 8,
   "metadata": {},
   "outputs": [
    {
     "data": {
      "text/plain": [
       "905"
      ]
     },
     "execution_count": 8,
     "metadata": {},
     "output_type": "execute_result"
    }
   ],
   "source": [
    "data_df.CLAIM_SPECIALTY.nunique()"
   ]
  },
  {
   "cell_type": "markdown",
   "metadata": {},
   "source": [
    "##### Start dashboard below"
   ]
  },
  {
   "cell_type": "code",
   "execution_count": 9,
   "metadata": {},
   "outputs": [
    {
     "name": "stdout",
     "output_type": "stream",
     "text": [
      "Dash is running on http://127.0.0.1:8050/\n",
      "\n",
      "Dash is running on http://127.0.0.1:8050/\n",
      "\n",
      " * Serving Flask app 'dashboard' (lazy loading)\n",
      " * Environment: production\n",
      "   WARNING: This is a development server. Do not use it in a production deployment.\n",
      "   Use a production WSGI server instead.\n",
      " * Debug mode: on\n"
     ]
    },
    {
     "name": "stderr",
     "output_type": "stream",
     "text": [
      "Address already in use\n",
      "Port 8050 is in use by another program. Either identify and stop that program, or start the server with a different port.\n"
     ]
    },
    {
     "data": {
      "text/plain": [
       "256"
      ]
     },
     "execution_count": 9,
     "metadata": {},
     "output_type": "execute_result"
    }
   ],
   "source": [
    "# run this and go to url to get a look on the data\n",
    "working_folder = os.getcwd()\n",
    "os.system('python ' + os.path.join(working_folder, 'dashboard.py'))"
   ]
  },
  {
   "cell_type": "markdown",
   "metadata": {},
   "source": [
    "##### Correlations in data"
   ]
  },
  {
   "cell_type": "code",
   "execution_count": 10,
   "metadata": {},
   "outputs": [
    {
     "data": {
      "text/html": [
       "<div>\n",
       "<style scoped>\n",
       "    .dataframe tbody tr th:only-of-type {\n",
       "        vertical-align: middle;\n",
       "    }\n",
       "\n",
       "    .dataframe tbody tr th {\n",
       "        vertical-align: top;\n",
       "    }\n",
       "\n",
       "    .dataframe thead th {\n",
       "        text-align: right;\n",
       "    }\n",
       "</style>\n",
       "<table border=\"1\" class=\"dataframe\">\n",
       "  <thead>\n",
       "    <tr style=\"text-align: right;\">\n",
       "      <th>SERVICE_CATEGORY</th>\n",
       "      <th>ASCServices</th>\n",
       "      <th>AncillaryFFS</th>\n",
       "      <th>ERServices</th>\n",
       "      <th>InpatientServices</th>\n",
       "      <th>OutpatientServices</th>\n",
       "      <th>PCPEncounter</th>\n",
       "      <th>PCPFFS</th>\n",
       "      <th>SNFServices</th>\n",
       "      <th>SpecialistFFS</th>\n",
       "      <th>SpecialistsFFS</th>\n",
       "    </tr>\n",
       "    <tr>\n",
       "      <th>SERVICE_CATEGORY</th>\n",
       "      <th></th>\n",
       "      <th></th>\n",
       "      <th></th>\n",
       "      <th></th>\n",
       "      <th></th>\n",
       "      <th></th>\n",
       "      <th></th>\n",
       "      <th></th>\n",
       "      <th></th>\n",
       "      <th></th>\n",
       "    </tr>\n",
       "  </thead>\n",
       "  <tbody>\n",
       "    <tr>\n",
       "      <th>ASCServices</th>\n",
       "      <td>1.000000</td>\n",
       "      <td>0.544560</td>\n",
       "      <td>0.775537</td>\n",
       "      <td>0.664597</td>\n",
       "      <td>0.811959</td>\n",
       "      <td>-0.019295</td>\n",
       "      <td>0.783130</td>\n",
       "      <td>0.631207</td>\n",
       "      <td>0.179828</td>\n",
       "      <td>0.783668</td>\n",
       "    </tr>\n",
       "    <tr>\n",
       "      <th>AncillaryFFS</th>\n",
       "      <td>0.544560</td>\n",
       "      <td>1.000000</td>\n",
       "      <td>0.563190</td>\n",
       "      <td>0.636375</td>\n",
       "      <td>0.664955</td>\n",
       "      <td>-0.095753</td>\n",
       "      <td>0.496099</td>\n",
       "      <td>0.677871</td>\n",
       "      <td>0.500487</td>\n",
       "      <td>0.764841</td>\n",
       "    </tr>\n",
       "    <tr>\n",
       "      <th>ERServices</th>\n",
       "      <td>0.775537</td>\n",
       "      <td>0.563190</td>\n",
       "      <td>1.000000</td>\n",
       "      <td>0.693839</td>\n",
       "      <td>0.799342</td>\n",
       "      <td>-0.025887</td>\n",
       "      <td>0.686885</td>\n",
       "      <td>0.739043</td>\n",
       "      <td>-0.068663</td>\n",
       "      <td>0.723242</td>\n",
       "    </tr>\n",
       "    <tr>\n",
       "      <th>InpatientServices</th>\n",
       "      <td>0.664597</td>\n",
       "      <td>0.636375</td>\n",
       "      <td>0.693839</td>\n",
       "      <td>1.000000</td>\n",
       "      <td>0.702831</td>\n",
       "      <td>-0.191002</td>\n",
       "      <td>0.676121</td>\n",
       "      <td>0.702822</td>\n",
       "      <td>0.036905</td>\n",
       "      <td>0.736521</td>\n",
       "    </tr>\n",
       "    <tr>\n",
       "      <th>OutpatientServices</th>\n",
       "      <td>0.811959</td>\n",
       "      <td>0.664955</td>\n",
       "      <td>0.799342</td>\n",
       "      <td>0.702831</td>\n",
       "      <td>1.000000</td>\n",
       "      <td>-0.055326</td>\n",
       "      <td>0.702702</td>\n",
       "      <td>0.656486</td>\n",
       "      <td>0.269074</td>\n",
       "      <td>0.807285</td>\n",
       "    </tr>\n",
       "    <tr>\n",
       "      <th>PCPEncounter</th>\n",
       "      <td>-0.019295</td>\n",
       "      <td>-0.095753</td>\n",
       "      <td>-0.025887</td>\n",
       "      <td>-0.191002</td>\n",
       "      <td>-0.055326</td>\n",
       "      <td>1.000000</td>\n",
       "      <td>-0.202964</td>\n",
       "      <td>-0.204721</td>\n",
       "      <td>-0.082560</td>\n",
       "      <td>-0.295712</td>\n",
       "    </tr>\n",
       "    <tr>\n",
       "      <th>PCPFFS</th>\n",
       "      <td>0.783130</td>\n",
       "      <td>0.496099</td>\n",
       "      <td>0.686885</td>\n",
       "      <td>0.676121</td>\n",
       "      <td>0.702702</td>\n",
       "      <td>-0.202964</td>\n",
       "      <td>1.000000</td>\n",
       "      <td>0.646871</td>\n",
       "      <td>0.036657</td>\n",
       "      <td>0.766591</td>\n",
       "    </tr>\n",
       "    <tr>\n",
       "      <th>SNFServices</th>\n",
       "      <td>0.631207</td>\n",
       "      <td>0.677871</td>\n",
       "      <td>0.739043</td>\n",
       "      <td>0.702822</td>\n",
       "      <td>0.656486</td>\n",
       "      <td>-0.204721</td>\n",
       "      <td>0.646871</td>\n",
       "      <td>1.000000</td>\n",
       "      <td>-0.061351</td>\n",
       "      <td>0.722618</td>\n",
       "    </tr>\n",
       "    <tr>\n",
       "      <th>SpecialistFFS</th>\n",
       "      <td>0.179828</td>\n",
       "      <td>0.500487</td>\n",
       "      <td>-0.068663</td>\n",
       "      <td>0.036905</td>\n",
       "      <td>0.269074</td>\n",
       "      <td>-0.082560</td>\n",
       "      <td>0.036657</td>\n",
       "      <td>-0.061351</td>\n",
       "      <td>1.000000</td>\n",
       "      <td>0.520483</td>\n",
       "    </tr>\n",
       "    <tr>\n",
       "      <th>SpecialistsFFS</th>\n",
       "      <td>0.783668</td>\n",
       "      <td>0.764841</td>\n",
       "      <td>0.723242</td>\n",
       "      <td>0.736521</td>\n",
       "      <td>0.807285</td>\n",
       "      <td>-0.295712</td>\n",
       "      <td>0.766591</td>\n",
       "      <td>0.722618</td>\n",
       "      <td>0.520483</td>\n",
       "      <td>1.000000</td>\n",
       "    </tr>\n",
       "  </tbody>\n",
       "</table>\n",
       "</div>"
      ],
      "text/plain": [
       "SERVICE_CATEGORY    ASCServices  AncillaryFFS  ERServices  InpatientServices  \\\n",
       "SERVICE_CATEGORY                                                               \n",
       "ASCServices            1.000000      0.544560    0.775537           0.664597   \n",
       "AncillaryFFS           0.544560      1.000000    0.563190           0.636375   \n",
       "ERServices             0.775537      0.563190    1.000000           0.693839   \n",
       "InpatientServices      0.664597      0.636375    0.693839           1.000000   \n",
       "OutpatientServices     0.811959      0.664955    0.799342           0.702831   \n",
       "PCPEncounter          -0.019295     -0.095753   -0.025887          -0.191002   \n",
       "PCPFFS                 0.783130      0.496099    0.686885           0.676121   \n",
       "SNFServices            0.631207      0.677871    0.739043           0.702822   \n",
       "SpecialistFFS          0.179828      0.500487   -0.068663           0.036905   \n",
       "SpecialistsFFS         0.783668      0.764841    0.723242           0.736521   \n",
       "\n",
       "SERVICE_CATEGORY    OutpatientServices  PCPEncounter    PCPFFS  SNFServices  \\\n",
       "SERVICE_CATEGORY                                                              \n",
       "ASCServices                   0.811959     -0.019295  0.783130     0.631207   \n",
       "AncillaryFFS                  0.664955     -0.095753  0.496099     0.677871   \n",
       "ERServices                    0.799342     -0.025887  0.686885     0.739043   \n",
       "InpatientServices             0.702831     -0.191002  0.676121     0.702822   \n",
       "OutpatientServices            1.000000     -0.055326  0.702702     0.656486   \n",
       "PCPEncounter                 -0.055326      1.000000 -0.202964    -0.204721   \n",
       "PCPFFS                        0.702702     -0.202964  1.000000     0.646871   \n",
       "SNFServices                   0.656486     -0.204721  0.646871     1.000000   \n",
       "SpecialistFFS                 0.269074     -0.082560  0.036657    -0.061351   \n",
       "SpecialistsFFS                0.807285     -0.295712  0.766591     0.722618   \n",
       "\n",
       "SERVICE_CATEGORY    SpecialistFFS  SpecialistsFFS  \n",
       "SERVICE_CATEGORY                                   \n",
       "ASCServices              0.179828        0.783668  \n",
       "AncillaryFFS             0.500487        0.764841  \n",
       "ERServices              -0.068663        0.723242  \n",
       "InpatientServices        0.036905        0.736521  \n",
       "OutpatientServices       0.269074        0.807285  \n",
       "PCPEncounter            -0.082560       -0.295712  \n",
       "PCPFFS                   0.036657        0.766591  \n",
       "SNFServices             -0.061351        0.722618  \n",
       "SpecialistFFS            1.000000        0.520483  \n",
       "SpecialistsFFS           0.520483        1.000000  "
      ]
     },
     "execution_count": 10,
     "metadata": {},
     "output_type": "execute_result"
    }
   ],
   "source": [
    "# how total paids per month correlated over SERVICE_CATEGORY\n",
    "dff = data_df.groupby(['paid_month', 'SERVICE_CATEGORY'], as_index=False).agg({'PAID_AMOUNT': 'sum'}).set_index('paid_month')\n",
    "dff.pivot_table('PAID_AMOUNT', 'paid_month', 'SERVICE_CATEGORY').corr()"
   ]
  },
  {
   "cell_type": "code",
   "execution_count": 11,
   "metadata": {},
   "outputs": [
    {
     "data": {
      "text/html": [
       "<div>\n",
       "<style scoped>\n",
       "    .dataframe tbody tr th:only-of-type {\n",
       "        vertical-align: middle;\n",
       "    }\n",
       "\n",
       "    .dataframe tbody tr th {\n",
       "        vertical-align: top;\n",
       "    }\n",
       "\n",
       "    .dataframe thead th {\n",
       "        text-align: right;\n",
       "    }\n",
       "</style>\n",
       "<table border=\"1\" class=\"dataframe\">\n",
       "  <thead>\n",
       "    <tr style=\"text-align: right;\">\n",
       "      <th>PAYER</th>\n",
       "      <th>Payer B</th>\n",
       "      <th>Payer CA</th>\n",
       "      <th>Payer CO</th>\n",
       "      <th>Payer F</th>\n",
       "      <th>Payer H</th>\n",
       "      <th>Payer O</th>\n",
       "      <th>Payer S</th>\n",
       "      <th>Payer UL</th>\n",
       "      <th>Payer UN</th>\n",
       "      <th>Payer W</th>\n",
       "    </tr>\n",
       "    <tr>\n",
       "      <th>PAYER</th>\n",
       "      <th></th>\n",
       "      <th></th>\n",
       "      <th></th>\n",
       "      <th></th>\n",
       "      <th></th>\n",
       "      <th></th>\n",
       "      <th></th>\n",
       "      <th></th>\n",
       "      <th></th>\n",
       "      <th></th>\n",
       "    </tr>\n",
       "  </thead>\n",
       "  <tbody>\n",
       "    <tr>\n",
       "      <th>Payer B</th>\n",
       "      <td>1.000000</td>\n",
       "      <td>0.055493</td>\n",
       "      <td>-0.273799</td>\n",
       "      <td>-0.028234</td>\n",
       "      <td>0.274060</td>\n",
       "      <td>-0.356790</td>\n",
       "      <td>-0.172741</td>\n",
       "      <td>-0.381877</td>\n",
       "      <td>0.534040</td>\n",
       "      <td>0.424958</td>\n",
       "    </tr>\n",
       "    <tr>\n",
       "      <th>Payer CA</th>\n",
       "      <td>0.055493</td>\n",
       "      <td>1.000000</td>\n",
       "      <td>0.271252</td>\n",
       "      <td>0.388980</td>\n",
       "      <td>0.568131</td>\n",
       "      <td>0.282218</td>\n",
       "      <td>0.224149</td>\n",
       "      <td>0.419954</td>\n",
       "      <td>0.190856</td>\n",
       "      <td>0.589926</td>\n",
       "    </tr>\n",
       "    <tr>\n",
       "      <th>Payer CO</th>\n",
       "      <td>-0.273799</td>\n",
       "      <td>0.271252</td>\n",
       "      <td>1.000000</td>\n",
       "      <td>0.264893</td>\n",
       "      <td>-0.185472</td>\n",
       "      <td>0.563408</td>\n",
       "      <td>0.447732</td>\n",
       "      <td>0.234609</td>\n",
       "      <td>-0.496309</td>\n",
       "      <td>-0.011046</td>\n",
       "    </tr>\n",
       "    <tr>\n",
       "      <th>Payer F</th>\n",
       "      <td>-0.028234</td>\n",
       "      <td>0.388980</td>\n",
       "      <td>0.264893</td>\n",
       "      <td>1.000000</td>\n",
       "      <td>0.502012</td>\n",
       "      <td>0.697138</td>\n",
       "      <td>0.285137</td>\n",
       "      <td>0.582108</td>\n",
       "      <td>-0.151945</td>\n",
       "      <td>0.396708</td>\n",
       "    </tr>\n",
       "    <tr>\n",
       "      <th>Payer H</th>\n",
       "      <td>0.274060</td>\n",
       "      <td>0.568131</td>\n",
       "      <td>-0.185472</td>\n",
       "      <td>0.502012</td>\n",
       "      <td>1.000000</td>\n",
       "      <td>0.135870</td>\n",
       "      <td>-0.233909</td>\n",
       "      <td>0.563745</td>\n",
       "      <td>0.513596</td>\n",
       "      <td>0.295137</td>\n",
       "    </tr>\n",
       "    <tr>\n",
       "      <th>Payer O</th>\n",
       "      <td>-0.356790</td>\n",
       "      <td>0.282218</td>\n",
       "      <td>0.563408</td>\n",
       "      <td>0.697138</td>\n",
       "      <td>0.135870</td>\n",
       "      <td>1.000000</td>\n",
       "      <td>0.612839</td>\n",
       "      <td>0.328770</td>\n",
       "      <td>-0.536483</td>\n",
       "      <td>0.081803</td>\n",
       "    </tr>\n",
       "    <tr>\n",
       "      <th>Payer S</th>\n",
       "      <td>-0.172741</td>\n",
       "      <td>0.224149</td>\n",
       "      <td>0.447732</td>\n",
       "      <td>0.285137</td>\n",
       "      <td>-0.233909</td>\n",
       "      <td>0.612839</td>\n",
       "      <td>1.000000</td>\n",
       "      <td>0.249939</td>\n",
       "      <td>-0.495402</td>\n",
       "      <td>0.049765</td>\n",
       "    </tr>\n",
       "    <tr>\n",
       "      <th>Payer UL</th>\n",
       "      <td>-0.381877</td>\n",
       "      <td>0.419954</td>\n",
       "      <td>0.234609</td>\n",
       "      <td>0.582108</td>\n",
       "      <td>0.563745</td>\n",
       "      <td>0.328770</td>\n",
       "      <td>0.249939</td>\n",
       "      <td>1.000000</td>\n",
       "      <td>-0.247551</td>\n",
       "      <td>0.150746</td>\n",
       "    </tr>\n",
       "    <tr>\n",
       "      <th>Payer UN</th>\n",
       "      <td>0.534040</td>\n",
       "      <td>0.190856</td>\n",
       "      <td>-0.496309</td>\n",
       "      <td>-0.151945</td>\n",
       "      <td>0.513596</td>\n",
       "      <td>-0.536483</td>\n",
       "      <td>-0.495402</td>\n",
       "      <td>-0.247551</td>\n",
       "      <td>1.000000</td>\n",
       "      <td>0.116361</td>\n",
       "    </tr>\n",
       "    <tr>\n",
       "      <th>Payer W</th>\n",
       "      <td>0.424958</td>\n",
       "      <td>0.589926</td>\n",
       "      <td>-0.011046</td>\n",
       "      <td>0.396708</td>\n",
       "      <td>0.295137</td>\n",
       "      <td>0.081803</td>\n",
       "      <td>0.049765</td>\n",
       "      <td>0.150746</td>\n",
       "      <td>0.116361</td>\n",
       "      <td>1.000000</td>\n",
       "    </tr>\n",
       "  </tbody>\n",
       "</table>\n",
       "</div>"
      ],
      "text/plain": [
       "PAYER      Payer B  Payer CA  Payer CO   Payer F   Payer H   Payer O  \\\n",
       "PAYER                                                                  \n",
       "Payer B   1.000000  0.055493 -0.273799 -0.028234  0.274060 -0.356790   \n",
       "Payer CA  0.055493  1.000000  0.271252  0.388980  0.568131  0.282218   \n",
       "Payer CO -0.273799  0.271252  1.000000  0.264893 -0.185472  0.563408   \n",
       "Payer F  -0.028234  0.388980  0.264893  1.000000  0.502012  0.697138   \n",
       "Payer H   0.274060  0.568131 -0.185472  0.502012  1.000000  0.135870   \n",
       "Payer O  -0.356790  0.282218  0.563408  0.697138  0.135870  1.000000   \n",
       "Payer S  -0.172741  0.224149  0.447732  0.285137 -0.233909  0.612839   \n",
       "Payer UL -0.381877  0.419954  0.234609  0.582108  0.563745  0.328770   \n",
       "Payer UN  0.534040  0.190856 -0.496309 -0.151945  0.513596 -0.536483   \n",
       "Payer W   0.424958  0.589926 -0.011046  0.396708  0.295137  0.081803   \n",
       "\n",
       "PAYER      Payer S  Payer UL  Payer UN   Payer W  \n",
       "PAYER                                             \n",
       "Payer B  -0.172741 -0.381877  0.534040  0.424958  \n",
       "Payer CA  0.224149  0.419954  0.190856  0.589926  \n",
       "Payer CO  0.447732  0.234609 -0.496309 -0.011046  \n",
       "Payer F   0.285137  0.582108 -0.151945  0.396708  \n",
       "Payer H  -0.233909  0.563745  0.513596  0.295137  \n",
       "Payer O   0.612839  0.328770 -0.536483  0.081803  \n",
       "Payer S   1.000000  0.249939 -0.495402  0.049765  \n",
       "Payer UL  0.249939  1.000000 -0.247551  0.150746  \n",
       "Payer UN -0.495402 -0.247551  1.000000  0.116361  \n",
       "Payer W   0.049765  0.150746  0.116361  1.000000  "
      ]
     },
     "execution_count": 11,
     "metadata": {},
     "output_type": "execute_result"
    }
   ],
   "source": [
    "# how total paids per month correlated over PAYERs\n",
    "dff = data_df.groupby(['paid_month', 'PAYER'], as_index=False).agg({'PAID_AMOUNT': 'sum'}).set_index('paid_month')\n",
    "dff.pivot_table('PAID_AMOUNT', 'paid_month', 'PAYER').corr()"
   ]
  },
  {
   "cell_type": "markdown",
   "metadata": {},
   "source": [
    "##### Seasonality"
   ]
  },
  {
   "cell_type": "code",
   "execution_count": 12,
   "metadata": {},
   "outputs": [
    {
     "data": {
      "image/png": "[encoded data removed]",
      "text/plain": [
       "<Figure size 432x288 with 1 Axes>"
      ]
     },
     "metadata": {
      "needs_background": "light"
     },
     "output_type": "display_data"
    }
   ],
   "source": [
    "pd.plotting.autocorrelation_plot(data_df[data_df.paid_month < '2020-05-01'].groupby('paid_month').PAID_AMOUNT.sum());\n",
    "# pd.plotting.autocorrelation_plot(data_df.groupby('paid_month').PAID_AMOUNT.sum());\n",
    "# pd.plotting.autocorrelation_plot(data_df[(data_df.PAYER == 'Payer F') & (data_df.SERVICE_CATEGORY == 'InpatientServices')].groupby('paid_month').PAID_AMOUNT.sum());"
   ]
  },
  {
   "cell_type": "markdown",
   "metadata": {},
   "source": [
    "### Some conclusions\n",
    "##### Data quality \n",
    "* there is missing data for CLAIM_SPECIALTY (251 records)\n",
    "* malformatted data for MONTH (only year, month is missed, 11 records)\n",
    "* there is no data for some payers for the last month (Jul 2020)\n",
    "* it seems (?) that there is not complete data for the last 2 month - maybe because of companies \"reporting mechanics\"\n",
    "* there is strange negative total paid for PCPEncounter SERVICE_CATEGORY\n",
    "##### Basic description\n",
    "* data cover 32 month\n",
    "* categorical types: 10 SERVICE_CATEGORY, 10 PAYER, and 905 CLAIM_SPECIALTY categories\n",
    "* from these \"Payer F\" is biggest PAYER and \"InpatientServices\" is biggest SERVICE_CATEGORY: both about 45% of paids from total\n",
    "* specialistFFS and SpecialistsFFS are not covered by the all payers, other SERVICE_CATEGORY are used by all payers\n",
    "* only \"Payer F\" cover all SERVICE_CATEGORY\n",
    "* \"Payer UL\" present in data only from Nov 2018\n",
    "##### Few deeper explorations\n",
    "* total paids per month are strongly (positive, up to 0.8) correlated over SERVICE_CATEGORY\n",
    "* total paids per month are sometimes correlated (negative and positive, up to +/- 0.6) over PAYERS\n",
    "* no strong seasonality visible in data, but May and October have maximum values "
   ]
  }
 ],
 "metadata": {
  "kernelspec": {
   "display_name": "Python 3.10.1 ('movingpandas_env')",
   "language": "python",
   "name": "python3"
  },
  "language_info": {
   "codemirror_mode": {
    "name": "ipython",
    "version": 3
   },
   "file_extension": ".py",
   "mimetype": "text/x-python",
   "name": "python",
   "nbconvert_exporter": "python",
   "pygments_lexer": "ipython3",
   "version": "3.10.1"
  },
  "orig_nbformat": 4,
  "vscode": {
   "interpreter": {
    "hash": "a6f1130e5cf51d27c55918c21edaa22b7c143882bd499c425a807afbeb0d7013"
   }
  }
 },
 "nbformat": 4,
 "nbformat_minor": 2
}
